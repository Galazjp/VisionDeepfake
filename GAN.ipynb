{
 "cells": [
  {
   "cell_type": "code",
   "execution_count": 13,
   "metadata": {},
   "outputs": [],
   "source": [
    "import matplotlib.pyplot as plt\n",
    "import numpy as np\n",
    "import tensorflow as tf\n",
    "\n",
    "# GAN Proof of concept\n",
    "\n",
    "%matplotlib inline\n",
    "\n",
    "\n",
    "def cost_generator(Y, A):\n",
    "    return -np.sum((1 - Y)*np.log(np.where(A > 0, A, 0.1)))/len(Y)\n",
    "\n",
    "\n",
    "def grad_generator(Y, A):\n",
    "    # compute cost function\n",
    "    # -Y/A * A(1 - A)\n",
    "    return -(1 - Y)*(1 - A)\n",
    "\n",
    "\n",
    "def cost_descriminator(Y, A):\n",
    "    return -np.sum(Y*np.log(np.where(A > 0, A, 0.1)) +\n",
    "                   (1 - Y)*np.log(1-np.where(A < 1, A, 0.9)))/len(Y)\n",
    "    \n",
    "\n",
    "def grad_descriminator(Y, A):\n",
    "    # compute cost\n",
    "    # (-Y(1-A) + (1-Y)A)/A(1 - A) * A(1 - A)\n",
    "    return A - Y\n",
    "\n",
    "\n",
    "def sigmoid(x):\n",
    "    return 1 / (1 + np.exp(-x))\n",
    "\n",
    "\n",
    "def propagate_descriminator(descriminator, X, Y):\n",
    "    m = len(Y)\n",
    "    # forward pass\n",
    "    z = np.matmul(descriminator['W'], X) + descriminator['b']\n",
    "    a = sigmoid(z)\n",
    "    # backprob\n",
    "    dz = grad_descriminator(Y, a)\n",
    "    dw = np.matmul(dz, X.T)/m\n",
    "    db = np.sum(dz, axis=1)/m\n",
    "    return {'dW': dw, 'db': db,\n",
    "            'cost': cost_descriminator(Y, a)}\n",
    "\n",
    "\n",
    "def propagate_generator(generator, descriminator, X, Y):\n",
    "    m = len(Y)\n",
    "    # forward pass\n",
    "    z1 = np.matmul(generator['W1'], X) +  generator['b1']\n",
    "    a1 = sigmoid(z1)\n",
    "    z2 = np.matmul(generator['W2'], a1) + generator['b2']\n",
    "    a2 = sigmoid(z2)\n",
    "    # Run Forward pass of discriminator\n",
    "    z3 = np.matmul(descriminator['W'], a2) + descriminator['b']\n",
    "    a3 = sigmoid(z3)\n",
    "    # backward pass\n",
    "    dz3 = grad_generator(Y, a3)\n",
    "    da2 = np.matmul(descriminator['W'].T, dz3)\n",
    "    dz2 = da2 * (1 - da2)\n",
    "    dw2 = np.matmul(dz2, a1.T)/m\n",
    "    db2 = np.sum(dz2, axis=1).reshape(-1, 1)/m\n",
    "    da1 = np.matmul(generator['W2'].T, dz2)\n",
    "    dz1 = da1 * (1 - da1)\n",
    "    dw1 = np.matmul(dz1, X.T)/m\n",
    "    db1 = np.sum(dz1, axis=1).reshape(-1, 1)/m\n",
    "    return {'dW1': dw1, 'db1': db1,\n",
    "            'dW2': dw2, 'db2': db2,\n",
    "            'cost': cost_generator(Y, a3)}\n",
    "\n",
    "\n",
    "def generate(generator, X):\n",
    "    z1 = np.matmul(generator['W1'], X) +  generator['b1']\n",
    "    a1 = sigmoid(z1)\n",
    "    z2 = np.matmul(generator['W2'], a1) + generator['b2']\n",
    "    return sigmoid(z2)\n",
    "\n",
    "\n",
    "def generate_discriminator_data(generator, noise, real_data,\n",
    "                                label_real, label_fake,\n",
    "                                shuffle):\n",
    "    # Turn Noise into fake data by calling generator\n",
    "    fake_data = generate(generator, noise)\n",
    "    data = np.concatenate((real_data,\n",
    "                           generate(generator, noise)),\n",
    "                          axis=1)\n",
    "    labels = np.concatenate((label_real, label_fake), axis=1)\n",
    "    return data[:, shuffle], labels[:, shuffle]\n",
    "\n",
    "\n",
    "def train(generator, descriminator, alpha, iterations, data, noise):\n",
    "    \n",
    "    _, m = data.shape\n",
    "    label_real = np.ones((1, m))\n",
    "    label_fake = np.zeros((1, m))\n",
    "    shuffle = np.random.permutation(m*2)\n",
    "\n",
    "    for i in range(iterations):\n",
    "        # generate data for discriminator\n",
    "        d_data, g_labels = generate_discriminator_data(generator, noise, data,\n",
    "                                                       label_real, label_fake,\n",
    "                                                       shuffle)\n",
    "        \n",
    "        grad_descriminator = propagate_descriminator(descriminator,\n",
    "                                                     d_data,\n",
    "                                                     g_labels)\n",
    "        # generator trains with noise\n",
    "        grad_generator = propagate_generator(generator,\n",
    "                                             descriminator,\n",
    "                                             noise,\n",
    "                                             label_fake)\n",
    "        \n",
    "        # update discriminator\n",
    "        descriminator['W'] -= alpha*grad_descriminator['dW']\n",
    "        descriminator['b'] -= alpha*grad_descriminator['db']\n",
    "        descriminator['cost'][i] = grad_descriminator['cost']\n",
    "        # update generator\n",
    "        generator['W1'] -= alpha*grad_generator['dW1']\n",
    "        generator['b1'] -= alpha*grad_generator['db1']\n",
    "        generator['W2'] -= alpha*grad_generator['dW2']\n",
    "        generator['b2'] -= alpha*grad_generator['db2']\n",
    "        generator['cost'][i] = grad_generator['cost']\n",
    "\n",
    "    return generator, descriminator\n",
    "\n",
    "\n",
    "def loadimage(image_vector):\n",
    "    n = 28\n",
    "    plt.title('Noise')\n",
    "    plt.imshow(image_vector.reshape(n, n),  cmap = 'gray')\n",
    "    plt.show()\n",
    "\n",
    "\n",
    "def load_data():\n",
    "    (x_train, y_train), (x_test, y_test) = tf.keras.datasets.mnist.load_data()\n",
    "\n",
    "    \n",
    "    # x_train = x_train[np.where(y_train == 5, True, False)]\n",
    "    # x_test = x_test[np.where(y_test == 5, True, False)]\n",
    "    \n",
    "    m1, col1, row1 = x_train.shape\n",
    "    n = col1 * row1\n",
    "    m2, _, _ = x_test.shape\n",
    "\n",
    "    data_train = x_train.reshape(-1, n).T/255\n",
    "    data_test = x_test.reshape(-1, n).T/255\n",
    "    \n",
    "    noise_train = np.random.rand(10, m1)\n",
    "    noise_test = np.random.rand(10, m2)\n",
    "\n",
    "    return ((data_train, data_test),\n",
    "            (noise_train, noise_test))\n"
   ]
  },
  {
   "cell_type": "code",
   "execution_count": 14,
   "metadata": {},
   "outputs": [
    {
     "name": "stdout",
     "output_type": "stream",
     "text": [
      "(784, 60000) (784, 10000)\n",
      "(10, 60000) (10, 10000)\n"
     ]
    },
    {
     "data": {
      "image/png": "[encoded data removed]",
      "text/plain": [
       "<Figure size 432x288 with 1 Axes>"
      ]
     },
     "metadata": {
      "needs_background": "light"
     },
     "output_type": "display_data"
    }
   ],
   "source": [
    "(data_train, data_test), (noise_train, noise_test) = load_data()\n",
    "print(data_train.shape, data_test.shape)\n",
    "print(noise_train.shape, noise_test.shape)\n",
    "\n",
    "loadimage(data_train[:, 20])\n"
   ]
  },
  {
   "cell_type": "code",
   "execution_count": 19,
   "metadata": {},
   "outputs": [
    {
     "name": "stderr",
     "output_type": "stream",
     "text": [
      "/Users/juanpablogalazchavez/Class/Vision/env/lib/python3.7/site-packages/ipykernel_launcher.py:31: RuntimeWarning: overflow encountered in exp\n"
     ]
    },
    {
     "name": "stdout",
     "output_type": "stream",
     "text": [
      "Done Training\n"
     ]
    },
    {
     "data": {
      "image/png": "[encoded data removed]",
      "text/plain": [
       "<Figure size 432x288 with 1 Axes>"
      ]
     },
     "metadata": {
      "needs_background": "light"
     },
     "output_type": "display_data"
    },
    {
     "data": {
      "image/png": "[encoded data removed]",
      "text/plain": [
       "<Figure size 432x288 with 1 Axes>"
      ]
     },
     "metadata": {
      "needs_background": "light"
     },
     "output_type": "display_data"
    }
   ],
   "source": [
    "alpha = 0.01\n",
    "iterations = 300\n",
    "n, _ = data_train.shape\n",
    "u = 250\n",
    "\n",
    "num_samples = 10\n",
    "\n",
    "descriminator = {'W': np.random.rand(1, n),\n",
    "                 'b': 0,\n",
    "                 'cost': np.zeros(iterations)}\n",
    "\n",
    "generator = {'W1': np.random.rand(u, 10),\n",
    "             'b1': np.random.rand(u, 1),\n",
    "             'W2': np.random.rand(n, u),\n",
    "             'b2': np.random.rand(n, 1),\n",
    "             'cost': np.zeros(iterations)}\n",
    "\n",
    "generator, descriminator = train(generator, descriminator,\n",
    "                                 alpha, iterations,\n",
    "                                 data_train[:, :num_samples],\n",
    "                                 noise_train[:, :num_samples])\n",
    "print('Done Training')\n",
    "plt.title('Generator')\n",
    "plt.plot(generator['cost'])\n",
    "plt.show()\n",
    "\n",
    "plt.title('Descriminator')\n",
    "plt.plot(descriminator['cost'])\n",
    "plt.show()"
   ]
  },
  {
   "cell_type": "code",
   "execution_count": 20,
   "metadata": {},
   "outputs": [
    {
     "name": "stderr",
     "output_type": "stream",
     "text": [
      "/Users/juanpablogalazchavez/Class/Vision/env/lib/python3.7/site-packages/ipykernel_launcher.py:31: RuntimeWarning: overflow encountered in exp\n"
     ]
    },
    {
     "data": {
      "image/png": "[encoded data removed]",
      "text/plain": [
       "<Figure size 432x288 with 1 Axes>"
      ]
     },
     "metadata": {
      "needs_background": "light"
     },
     "output_type": "display_data"
    }
   ],
   "source": [
    "temp = noise_train[:, 60].reshape(-1, 1)\n",
    "# Run Generator\n",
    "generated_image = generate(generator, temp)\n",
    "loadimage(generated_image)"
   ]
  },
  {
   "cell_type": "code",
   "execution_count": null,
   "metadata": {},
   "outputs": [],
   "source": []
  }
 ],
 "metadata": {
  "kernelspec": {
   "display_name": "Python 3",
   "language": "python",
   "name": "python3"
  },
  "language_info": {
   "codemirror_mode": {
    "name": "ipython",
    "version": 3
   },
   "file_extension": ".py",
   "mimetype": "text/x-python",
   "name": "python",
   "nbconvert_exporter": "python",
   "pygments_lexer": "ipython3",
   "version": "3.7.4"
  }
 },
 "nbformat": 4,
 "nbformat_minor": 2
}
